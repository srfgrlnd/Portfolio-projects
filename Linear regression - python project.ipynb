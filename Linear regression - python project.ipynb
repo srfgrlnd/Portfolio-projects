{
 "cells": [
  {
   "cell_type": "markdown",
   "metadata": {},
   "source": [
    "# Linear regression on Games purchases"
   ]
  },
  {
   "cell_type": "code",
   "execution_count": 20,
   "metadata": {},
   "outputs": [],
   "source": [
    "# Import libraries\n",
    "\n",
    "import numpy as np\n",
    "import pandas as pd\n",
    "import matplotlib.pyplot as plt\n",
    "import seaborn as sns\n",
    "\n",
    "from sklearn import datasets, linear_model\n",
    "from sklearn.model_selection import train_test_split\n",
    "from sklearn import linear_model\n",
    "from sklearn.metrics import mean_squared_error, r2_score\n",
    "from sklearn.model_selection import train_test_split\n",
    "\n",
    "import statsmodels.api as sm\n",
    "\n",
    "import warnings\n",
    "warnings.filterwarnings('ignore')"
   ]
  },
  {
   "cell_type": "code",
   "execution_count": 21,
   "metadata": {},
   "outputs": [
    {
     "data": {
      "text/html": [
       "<div>\n",
       "<style scoped>\n",
       "    .dataframe tbody tr th:only-of-type {\n",
       "        vertical-align: middle;\n",
       "    }\n",
       "\n",
       "    .dataframe tbody tr th {\n",
       "        vertical-align: top;\n",
       "    }\n",
       "\n",
       "    .dataframe thead th {\n",
       "        text-align: right;\n",
       "    }\n",
       "</style>\n",
       "<table border=\"1\" class=\"dataframe\">\n",
       "  <thead>\n",
       "    <tr style=\"text-align: right;\">\n",
       "      <th></th>\n",
       "      <th>gender</th>\n",
       "      <th>age</th>\n",
       "      <th>edu</th>\n",
       "      <th>salary</th>\n",
       "      <th>sn.conn</th>\n",
       "      <th>sn.min</th>\n",
       "      <th>game.min</th>\n",
       "      <th>game.purchase</th>\n",
       "    </tr>\n",
       "  </thead>\n",
       "  <tbody>\n",
       "    <tr>\n",
       "      <th>0</th>\n",
       "      <td>Female</td>\n",
       "      <td>24</td>\n",
       "      <td>University</td>\n",
       "      <td>2934</td>\n",
       "      <td>26</td>\n",
       "      <td>146.92</td>\n",
       "      <td>29.38</td>\n",
       "      <td>17</td>\n",
       "    </tr>\n",
       "    <tr>\n",
       "      <th>1</th>\n",
       "      <td>Female</td>\n",
       "      <td>20</td>\n",
       "      <td>University</td>\n",
       "      <td>3534</td>\n",
       "      <td>21</td>\n",
       "      <td>132.22</td>\n",
       "      <td>15.87</td>\n",
       "      <td>6</td>\n",
       "    </tr>\n",
       "    <tr>\n",
       "      <th>2</th>\n",
       "      <td>Male</td>\n",
       "      <td>27</td>\n",
       "      <td>University</td>\n",
       "      <td>3245</td>\n",
       "      <td>27</td>\n",
       "      <td>154.45</td>\n",
       "      <td>27.80</td>\n",
       "      <td>16</td>\n",
       "    </tr>\n",
       "    <tr>\n",
       "      <th>3</th>\n",
       "      <td>Male</td>\n",
       "      <td>23</td>\n",
       "      <td>University</td>\n",
       "      <td>2313</td>\n",
       "      <td>23</td>\n",
       "      <td>117.29</td>\n",
       "      <td>34.01</td>\n",
       "      <td>22</td>\n",
       "    </tr>\n",
       "    <tr>\n",
       "      <th>4</th>\n",
       "      <td>Male</td>\n",
       "      <td>23</td>\n",
       "      <td>High School</td>\n",
       "      <td>3685</td>\n",
       "      <td>25</td>\n",
       "      <td>104.33</td>\n",
       "      <td>22.95</td>\n",
       "      <td>18</td>\n",
       "    </tr>\n",
       "  </tbody>\n",
       "</table>\n",
       "</div>"
      ],
      "text/plain": [
       "   gender  age          edu  salary  sn.conn  sn.min  game.min  game.purchase\n",
       "0  Female   24   University    2934       26  146.92     29.38             17\n",
       "1  Female   20   University    3534       21  132.22     15.87              6\n",
       "2    Male   27   University    3245       27  154.45     27.80             16\n",
       "3    Male   23   University    2313       23  117.29     34.01             22\n",
       "4    Male   23  High School    3685       25  104.33     22.95             18"
      ]
     },
     "execution_count": 21,
     "metadata": {},
     "output_type": "execute_result"
    }
   ],
   "source": [
    "# import data\n",
    "\n",
    "games = pd.read_csv('sn_game.csv')\n",
    "\n",
    "games.head()"
   ]
  },
  {
   "cell_type": "markdown",
   "metadata": {},
   "source": [
    "### Exploratory analysis"
   ]
  },
  {
   "cell_type": "code",
   "execution_count": 22,
   "metadata": {},
   "outputs": [
    {
     "data": {
      "text/html": [
       "<div>\n",
       "<style scoped>\n",
       "    .dataframe tbody tr th:only-of-type {\n",
       "        vertical-align: middle;\n",
       "    }\n",
       "\n",
       "    .dataframe tbody tr th {\n",
       "        vertical-align: top;\n",
       "    }\n",
       "\n",
       "    .dataframe thead th {\n",
       "        text-align: right;\n",
       "    }\n",
       "</style>\n",
       "<table border=\"1\" class=\"dataframe\">\n",
       "  <thead>\n",
       "    <tr style=\"text-align: right;\">\n",
       "      <th></th>\n",
       "      <th>age</th>\n",
       "      <th>salary</th>\n",
       "      <th>sn.conn</th>\n",
       "      <th>sn.min</th>\n",
       "      <th>game.min</th>\n",
       "      <th>game.purchase</th>\n",
       "    </tr>\n",
       "  </thead>\n",
       "  <tbody>\n",
       "    <tr>\n",
       "      <th>count</th>\n",
       "      <td>300.000000</td>\n",
       "      <td>300.000000</td>\n",
       "      <td>300.000000</td>\n",
       "      <td>300.000000</td>\n",
       "      <td>300.000000</td>\n",
       "      <td>300.000000</td>\n",
       "    </tr>\n",
       "    <tr>\n",
       "      <th>mean</th>\n",
       "      <td>26.793333</td>\n",
       "      <td>2972.620000</td>\n",
       "      <td>26.233333</td>\n",
       "      <td>159.536300</td>\n",
       "      <td>30.921000</td>\n",
       "      <td>18.966667</td>\n",
       "    </tr>\n",
       "    <tr>\n",
       "      <th>std</th>\n",
       "      <td>5.473923</td>\n",
       "      <td>1140.850227</td>\n",
       "      <td>5.487495</td>\n",
       "      <td>42.857055</td>\n",
       "      <td>13.339674</td>\n",
       "      <td>16.112031</td>\n",
       "    </tr>\n",
       "    <tr>\n",
       "      <th>min</th>\n",
       "      <td>20.000000</td>\n",
       "      <td>1012.000000</td>\n",
       "      <td>18.000000</td>\n",
       "      <td>66.980000</td>\n",
       "      <td>8.090000</td>\n",
       "      <td>1.000000</td>\n",
       "    </tr>\n",
       "    <tr>\n",
       "      <th>25%</th>\n",
       "      <td>22.000000</td>\n",
       "      <td>1865.750000</td>\n",
       "      <td>22.000000</td>\n",
       "      <td>128.460000</td>\n",
       "      <td>20.855000</td>\n",
       "      <td>7.000000</td>\n",
       "    </tr>\n",
       "    <tr>\n",
       "      <th>50%</th>\n",
       "      <td>26.000000</td>\n",
       "      <td>3027.500000</td>\n",
       "      <td>25.000000</td>\n",
       "      <td>150.900000</td>\n",
       "      <td>29.670000</td>\n",
       "      <td>14.000000</td>\n",
       "    </tr>\n",
       "    <tr>\n",
       "      <th>75%</th>\n",
       "      <td>31.000000</td>\n",
       "      <td>3863.750000</td>\n",
       "      <td>30.000000</td>\n",
       "      <td>184.450000</td>\n",
       "      <td>38.690000</td>\n",
       "      <td>25.000000</td>\n",
       "    </tr>\n",
       "    <tr>\n",
       "      <th>max</th>\n",
       "      <td>39.000000</td>\n",
       "      <td>4986.000000</td>\n",
       "      <td>40.000000</td>\n",
       "      <td>296.080000</td>\n",
       "      <td>81.470000</td>\n",
       "      <td>88.000000</td>\n",
       "    </tr>\n",
       "  </tbody>\n",
       "</table>\n",
       "</div>"
      ],
      "text/plain": [
       "              age       salary     sn.conn      sn.min    game.min  \\\n",
       "count  300.000000   300.000000  300.000000  300.000000  300.000000   \n",
       "mean    26.793333  2972.620000   26.233333  159.536300   30.921000   \n",
       "std      5.473923  1140.850227    5.487495   42.857055   13.339674   \n",
       "min     20.000000  1012.000000   18.000000   66.980000    8.090000   \n",
       "25%     22.000000  1865.750000   22.000000  128.460000   20.855000   \n",
       "50%     26.000000  3027.500000   25.000000  150.900000   29.670000   \n",
       "75%     31.000000  3863.750000   30.000000  184.450000   38.690000   \n",
       "max     39.000000  4986.000000   40.000000  296.080000   81.470000   \n",
       "\n",
       "       game.purchase  \n",
       "count     300.000000  \n",
       "mean       18.966667  \n",
       "std        16.112031  \n",
       "min         1.000000  \n",
       "25%         7.000000  \n",
       "50%        14.000000  \n",
       "75%        25.000000  \n",
       "max        88.000000  "
      ]
     },
     "execution_count": 22,
     "metadata": {},
     "output_type": "execute_result"
    }
   ],
   "source": [
    "# Explore data\n",
    "\n",
    "games.describe()"
   ]
  },
  {
   "cell_type": "code",
   "execution_count": 23,
   "metadata": {},
   "outputs": [
    {
     "data": {
      "text/plain": [
       "[Text(0, 0.5, 'games'), Text(0.5, 0, 'gender')]"
      ]
     },
     "execution_count": 23,
     "metadata": {},
     "output_type": "execute_result"
    },
    {
     "data": {
      "image/png": "[encoded data removed]",
      "text/plain": [
       "<Figure size 432x288 with 1 Axes>"
      ]
     },
     "metadata": {
      "needs_background": "light"
     },
     "output_type": "display_data"
    }
   ],
   "source": [
    "# started with the categorical columns 'gender' and 'education'\n",
    "\n",
    "# Checked the gender column to see if that affects game purchase\n",
    "# no difference between genders\n",
    "\n",
    "c = sns.boxplot(x='gender', y='game.purchase', data=games)\n",
    "c.set(xlabel='gender', ylabel='games')"
   ]
  },
  {
   "cell_type": "code",
   "execution_count": 24,
   "metadata": {},
   "outputs": [
    {
     "data": {
      "text/html": [
       "<div>\n",
       "<style scoped>\n",
       "    .dataframe tbody tr th:only-of-type {\n",
       "        vertical-align: middle;\n",
       "    }\n",
       "\n",
       "    .dataframe tbody tr th {\n",
       "        vertical-align: top;\n",
       "    }\n",
       "\n",
       "    .dataframe thead th {\n",
       "        text-align: right;\n",
       "    }\n",
       "</style>\n",
       "<table border=\"1\" class=\"dataframe\">\n",
       "  <thead>\n",
       "    <tr style=\"text-align: right;\">\n",
       "      <th></th>\n",
       "      <th>age</th>\n",
       "      <th>salary</th>\n",
       "      <th>sn.conn</th>\n",
       "      <th>sn.min</th>\n",
       "      <th>game.min</th>\n",
       "      <th>game.purchase</th>\n",
       "    </tr>\n",
       "    <tr>\n",
       "      <th>gender</th>\n",
       "      <th></th>\n",
       "      <th></th>\n",
       "      <th></th>\n",
       "      <th></th>\n",
       "      <th></th>\n",
       "      <th></th>\n",
       "    </tr>\n",
       "  </thead>\n",
       "  <tbody>\n",
       "    <tr>\n",
       "      <th>Female</th>\n",
       "      <td>26.987013</td>\n",
       "      <td>2944.545455</td>\n",
       "      <td>26.435065</td>\n",
       "      <td>159.108896</td>\n",
       "      <td>30.783636</td>\n",
       "      <td>18.551948</td>\n",
       "    </tr>\n",
       "    <tr>\n",
       "      <th>Male</th>\n",
       "      <td>26.589041</td>\n",
       "      <td>3002.232877</td>\n",
       "      <td>26.020548</td>\n",
       "      <td>159.987123</td>\n",
       "      <td>31.065890</td>\n",
       "      <td>19.404110</td>\n",
       "    </tr>\n",
       "  </tbody>\n",
       "</table>\n",
       "</div>"
      ],
      "text/plain": [
       "              age       salary    sn.conn      sn.min   game.min  \\\n",
       "gender                                                             \n",
       "Female  26.987013  2944.545455  26.435065  159.108896  30.783636   \n",
       "Male    26.589041  3002.232877  26.020548  159.987123  31.065890   \n",
       "\n",
       "        game.purchase  \n",
       "gender                 \n",
       "Female      18.551948  \n",
       "Male        19.404110  "
      ]
     },
     "execution_count": 24,
     "metadata": {},
     "output_type": "execute_result"
    }
   ],
   "source": [
    "# Same can be shown by numbers only. \n",
    "# mean games for females are 18.551948\n",
    "# fore males 19.404110\n",
    "\n",
    "games.groupby('gender').mean()"
   ]
  },
  {
   "cell_type": "code",
   "execution_count": 25,
   "metadata": {},
   "outputs": [
    {
     "data": {
      "text/plain": [
       "[Text(0, 0.5, 'games'), Text(0.5, 0, 'education')]"
      ]
     },
     "execution_count": 25,
     "metadata": {},
     "output_type": "execute_result"
    },
    {
     "data": {
      "image/png": "[encoded data removed]",
      "text/plain": [
       "<Figure size 432x288 with 1 Axes>"
      ]
     },
     "metadata": {
      "needs_background": "light"
     },
     "output_type": "display_data"
    }
   ],
   "source": [
    "# Check the education level and game purchase\n",
    "\n",
    "c = sns.boxplot(x='edu', y='game.purchase', data=games)\n",
    "c.set(xlabel='education', ylabel='games')"
   ]
  },
  {
   "cell_type": "code",
   "execution_count": 26,
   "metadata": {},
   "outputs": [
    {
     "name": "stdout",
     "output_type": "stream",
     "text": [
      "                    age    salary   sn.conn    sn.min  game.min  game.purchase\n",
      "age            1.000000 -0.035874  0.959591  0.731363  0.510522       0.306323\n",
      "salary        -0.035874  1.000000 -0.039378 -0.022477  0.007469       0.506232\n",
      "sn.conn        0.959591 -0.039378  1.000000  0.764332  0.537065       0.313600\n",
      "sn.min         0.731363 -0.022477  0.764332  1.000000  0.708585       0.413934\n",
      "game.min       0.510522  0.007469  0.537065  0.708585  1.000000       0.783938\n",
      "game.purchase  0.306323  0.506232  0.313600  0.413934  0.783938       1.000000\n"
     ]
    },
    {
     "data": {
      "text/plain": [
       "<matplotlib.axes._subplots.AxesSubplot at 0x23e539f0df0>"
      ]
     },
     "execution_count": 26,
     "metadata": {},
     "output_type": "execute_result"
    },
    {
     "data": {
      "image/png": "[encoded data removed]",
      "text/plain": [
       "<Figure size 432x288 with 2 Axes>"
      ]
     },
     "metadata": {
      "needs_background": "light"
     },
     "output_type": "display_data"
    }
   ],
   "source": [
    "# Check numericals for correlation\n",
    "# game.min (minutes spent playing games) shows highest correlation (0.783938), salary moderate (0.506232)\n",
    "# sn.min may be slightly interesting as well (0.413934)\n",
    "\n",
    "corr_ex = games.corr()\n",
    "print(corr_ex)\n",
    "\n",
    "# Visualize with heatmap\n",
    "\n",
    "sns.heatmap(corr_ex, annot=True)"
   ]
  },
  {
   "cell_type": "code",
   "execution_count": 27,
   "metadata": {},
   "outputs": [
    {
     "data": {
      "text/plain": [
       "Text(0, 0.5, 'games')"
      ]
     },
     "execution_count": 27,
     "metadata": {},
     "output_type": "execute_result"
    },
    {
     "data": {
      "image/png": "[encoded data removed]",
      "text/plain": [
       "<Figure size 432x288 with 1 Axes>"
      ]
     },
     "metadata": {
      "needs_background": "light"
     },
     "output_type": "display_data"
    }
   ],
   "source": [
    "# Visualise game.min with scatterplot\n",
    "\n",
    "x = games['game.min']\n",
    "y = games['game.purchase']\n",
    "\n",
    "plt.scatter(x,y)\n",
    "\n",
    "plt.xlabel('minutes spent playing')\n",
    "plt.ylabel('games')"
   ]
  },
  {
   "cell_type": "code",
   "execution_count": 28,
   "metadata": {},
   "outputs": [
    {
     "data": {
      "text/plain": [
       "<seaborn.axisgrid.FacetGrid at 0x23e53b179a0>"
      ]
     },
     "execution_count": 28,
     "metadata": {},
     "output_type": "execute_result"
    },
    {
     "data": {
      "image/png": "[encoded data removed]",
      "text/plain": [
       "<Figure size 360x360 with 1 Axes>"
      ]
     },
     "metadata": {
      "needs_background": "light"
     },
     "output_type": "display_data"
    }
   ],
   "source": [
    "sns.lmplot('game.min', 'game.purchase', data = games)"
   ]
  },
  {
   "cell_type": "code",
   "execution_count": 29,
   "metadata": {},
   "outputs": [
    {
     "data": {
      "text/plain": [
       "Text(0, 0.5, 'games')"
      ]
     },
     "execution_count": 29,
     "metadata": {},
     "output_type": "execute_result"
    },
    {
     "data": {
      "image/png": "[encoded data removed]",
      "text/plain": [
       "<Figure size 432x288 with 1 Axes>"
      ]
     },
     "metadata": {
      "needs_background": "light"
     },
     "output_type": "display_data"
    }
   ],
   "source": [
    "# Visualise salary in a scatterplot\n",
    "\n",
    "x = games['salary']\n",
    "y = games['game.purchase']\n",
    "\n",
    "plt.scatter(x,y)\n",
    "\n",
    "plt.xlabel('salary')\n",
    "plt.ylabel('games')"
   ]
  },
  {
   "cell_type": "code",
   "execution_count": 30,
   "metadata": {},
   "outputs": [
    {
     "data": {
      "text/plain": [
       "Text(0, 0.5, 'games')"
      ]
     },
     "execution_count": 30,
     "metadata": {},
     "output_type": "execute_result"
    },
    {
     "data": {
      "image/png": "[encoded data removed]",
      "text/plain": [
       "<Figure size 432x288 with 1 Axes>"
      ]
     },
     "metadata": {
      "needs_background": "light"
     },
     "output_type": "display_data"
    }
   ],
   "source": [
    "# visualised 'sn.min'. Not as strong a relationship as I want. I will draw the line at 0.5 correlation\n",
    "# this variable also shows high correlation with 'game.min' (0.708585), might pose a problem with the model if both included\n",
    "\n",
    "x = games['sn.min']\n",
    "y = games['game.purchase']\n",
    "\n",
    "plt.scatter(x,y)\n",
    "\n",
    "plt.xlabel('sn.min')\n",
    "plt.ylabel('games')"
   ]
  },
  {
   "cell_type": "code",
   "execution_count": 31,
   "metadata": {},
   "outputs": [],
   "source": [
    "# Based on the exploratory analysis I will choose to focus on 'game.min' and 'salary' in my regression model since it shows the \n",
    "# strongest correlation and linearity\n",
    "\n",
    "# Multiple Linear regression fits this purpose"
   ]
  },
  {
   "cell_type": "markdown",
   "metadata": {},
   "source": [
    "### Linear regression model"
   ]
  },
  {
   "cell_type": "code",
   "execution_count": 32,
   "metadata": {},
   "outputs": [],
   "source": [
    "# Separate predictors 'game.min'+ 'salary' and target 'game.purchase'\n",
    "\n",
    "purchase_X, purchase_y = games[['game.min', 'salary']], games['game.purchase']"
   ]
  },
  {
   "cell_type": "code",
   "execution_count": 33,
   "metadata": {},
   "outputs": [
    {
     "name": "stdout",
     "output_type": "stream",
     "text": [
      "-31.179599953736716\n",
      "[0.94234832 0.00706714]\n"
     ]
    }
   ],
   "source": [
    "# Create multiple linear regression object\n",
    "\n",
    "g_model = linear_model.LinearRegression()\n",
    "\n",
    "# Train the model using the training sets and fit it\n",
    "g_model.fit(purchase_X, purchase_y)\n",
    "\n",
    "# Check the coefficient and intercept (the parameters of the linear regression model)\n",
    "\n",
    "# the intercept is -31.179599953736716\n",
    "# coefficients are [0.94234832 0.00706714]\n",
    "\n",
    "# every change in predictor variables will change the value of target variable \n",
    "# by the value of the relevant cofficients of each predictor\n",
    "\n",
    "print(g_model.intercept_)\n",
    "print(g_model.coef_)"
   ]
  },
  {
   "cell_type": "code",
   "execution_count": 34,
   "metadata": {},
   "outputs": [
    {
     "data": {
      "text/plain": [
       "array([17.24157506,  8.75073174, 17.95054447, 17.2159554 , 16.48969561])"
      ]
     },
     "execution_count": 34,
     "metadata": {},
     "output_type": "execute_result"
    }
   ],
   "source": [
    "# check predictions using the model\n",
    "\n",
    "purchase_y_pred = g_model.predict(purchase_X)\n",
    "\n",
    "purchase_y_pred[:5]"
   ]
  },
  {
   "cell_type": "code",
   "execution_count": 35,
   "metadata": {},
   "outputs": [
    {
     "data": {
      "text/plain": [
       "0    17.241575\n",
       "1     8.750732\n",
       "2    17.950544\n",
       "3    17.215955\n",
       "4    16.489696\n",
       "dtype: float64"
      ]
     },
     "execution_count": 35,
     "metadata": {},
     "output_type": "execute_result"
    }
   ],
   "source": [
    "# changed the array to series \n",
    "# the predicted purchases \n",
    "\n",
    "pd.Series(purchase_y_pred).head()"
   ]
  },
  {
   "cell_type": "code",
   "execution_count": 36,
   "metadata": {},
   "outputs": [
    {
     "name": "stdout",
     "output_type": "stream",
     "text": [
      "34.94164129774154\n",
      "0.8649505616361515\n"
     ]
    }
   ],
   "source": [
    "# checking mean squared error and r-squared\n",
    "\n",
    "# The mean squared error \n",
    "\n",
    "# 34.94164129774154\n",
    "\n",
    "print(mean_squared_error(purchase_y, purchase_y_pred))\n",
    "\n",
    "# r2 score\n",
    "\n",
    "# 0.8649505616361515 is good (1 is perfect)\n",
    "\n",
    "print(r2_score(purchase_y, purchase_y_pred))"
   ]
  },
  {
   "cell_type": "code",
   "execution_count": 37,
   "metadata": {},
   "outputs": [
    {
     "name": "stdout",
     "output_type": "stream",
     "text": [
      "                            OLS Regression Results                            \n",
      "==============================================================================\n",
      "Dep. Variable:          game.purchase   R-squared:                       0.865\n",
      "Model:                            OLS   Adj. R-squared:                  0.864\n",
      "Method:                 Least Squares   F-statistic:                     951.1\n",
      "Date:                Tue, 27 Sep 2022   Prob (F-statistic):          7.55e-130\n",
      "Time:                        13:47:57   Log-Likelihood:                -958.73\n",
      "No. Observations:                 300   AIC:                             1923.\n",
      "Df Residuals:                     297   BIC:                             1935.\n",
      "Df Model:                           2                                         \n",
      "Covariance Type:            nonrobust                                         \n",
      "==============================================================================\n",
      "                 coef    std err          t      P>|t|      [0.025      0.975]\n",
      "------------------------------------------------------------------------------\n",
      "const        -31.1796      1.242    -25.103      0.000     -33.624     -28.735\n",
      "game.min       0.9423      0.026     36.587      0.000       0.892       0.993\n",
      "salary         0.0071      0.000     23.466      0.000       0.006       0.008\n",
      "==============================================================================\n",
      "Omnibus:                        7.696   Durbin-Watson:                   1.918\n",
      "Prob(Omnibus):                  0.021   Jarque-Bera (JB):               10.816\n",
      "Skew:                           0.171   Prob(JB):                      0.00448\n",
      "Kurtosis:                       3.865   Cond. No.                     1.15e+04\n",
      "==============================================================================\n",
      "\n",
      "Warnings:\n",
      "[1] Standard Errors assume that the covariance matrix of the errors is correctly specified.\n",
      "[2] The condition number is large, 1.15e+04. This might indicate that there are\n",
      "strong multicollinearity or other numerical problems.\n"
     ]
    }
   ],
   "source": [
    "# statistical summary of the regression model to get more information about the model \n",
    "# The statistics that have been previously mentioned are also shown in the model\n",
    "\n",
    "X2 = sm.add_constant(purchase_X)\n",
    "est = sm.OLS(purchase_y, X2)\n",
    "est2 = est.fit()\n",
    "\n",
    "print(est2.summary())\n",
    "\n",
    "\n",
    "# We can see R-squared again - 0.865 = ca 86 % of games purchases can be explained by minutes spent playing games \n",
    "# and salary of the customer\n",
    "\n",
    "# R-squared in the model is closer to 1 than 0, which is good\n",
    "\n",
    "# Prob (F-statistic)/p-value associated with the overall F-statistic:  7.55e-130, very close to 0.000\n",
    "# model is statistically significant\n",
    "\n",
    "# P>|t|. The individual p-values tell us whether or not each predictor variable is statistically significant.\n",
    "# We can see that 'game.min' and 'salary' is statistically significant (p = 0.00) \n",
    "\n",
    "# the intercept is also shown here again as -31.1796 \n",
    "# coefficient for each predictor variable is also visible 0.9423, 0.0071"
   ]
  }
 ],
 "metadata": {
  "kernelspec": {
   "display_name": "Python 3",
   "language": "python",
   "name": "python3"
  },
  "language_info": {
   "codemirror_mode": {
    "name": "ipython",
    "version": 3
   },
   "file_extension": ".py",
   "mimetype": "text/x-python",
   "name": "python",
   "nbconvert_exporter": "python",
   "pygments_lexer": "ipython3",
   "version": "3.8.3"
  }
 },
 "nbformat": 4,
 "nbformat_minor": 4
}
